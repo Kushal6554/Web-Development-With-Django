{
 "cells": [
  {
   "cell_type": "code",
   "execution_count": 4,
   "metadata": {},
   "outputs": [
    {
     "name": "stdout",
     "output_type": "stream",
     "text": [
      "10 is of type: <class 'int'>\n",
      "10.6 is of type: <class 'float'>\n",
      "The new number 20.6 is of type <class 'float'>\n"
     ]
    }
   ],
   "source": [
    "# Examples of implicit type conversion\n",
    "x = 10\n",
    "print(f\"{x} is of type:\", type(x))\n",
    "\n",
    "y = 10.6\n",
    "print(f\"{y} is of type:\", type(y))\n",
    "\n",
    "x = x + y\n",
    "print(f\"The new number {x} is of type\", type(x))"
   ]
  },
  {
   "cell_type": "code",
   "execution_count": 17,
   "metadata": {},
   "outputs": [
    {
     "name": "stdout",
     "output_type": "stream",
     "text": [
      "34\n",
      "34, here, is of type: <class 'str'>\n",
      "\n",
      "Now, 34 becomes the type: <class 'int'>\n",
      "\n",
      "Again, 34.0 becomes the type: <class 'float'>\n"
     ]
    }
   ],
   "source": [
    "# Examples of explicit type conversion\n",
    "s = input(\"Enter a number:\")\n",
    "print(s)\n",
    "print(f\"{s}, here, is of type:\", type(s))\n",
    "\n",
    "num = int(s)\n",
    "print(f\"\\nNow, {num} becomes the type:\", type(num))\n",
    "\n",
    "float_num = float(s)\n",
    "print(f\"\\nAgain, {float_num} becomes the type:\", type(float_num))"
   ]
  },
  {
   "cell_type": "code",
   "execution_count": 60,
   "metadata": {},
   "outputs": [
    {
     "name": "stdout",
     "output_type": "stream",
     "text": [
      "a is: 123\n",
      "Here, a, ie, 123 is: <class 'int'>\n",
      "b is: 123\n",
      "Here, b, ie, 123 is: <class 'str'>\n",
      "\n",
      "The sum of 123 and 123 is: 246\n",
      "The sum of 123 and 123 is: 123123\n"
     ]
    }
   ],
   "source": [
    "a = 123\n",
    "b = '123'\n",
    "\n",
    "print(\"a is:\", a)\n",
    "print(f\"Here, a, ie, {a} is:\", type(a))\n",
    "\n",
    "print(\"b is:\", b)\n",
    "print(f\"Here, b, ie, {b} is:\", type(b))\n",
    "\n",
    "print(f\"\\nThe sum of {a} and {b} is:\", a+int(b))\n",
    "print(f\"The sum of {a} and {b} is:\", str(a) + b)"
   ]
  },
  {
   "cell_type": "code",
   "execution_count": 5,
   "metadata": {},
   "outputs": [
    {
     "name": "stdout",
     "output_type": "stream",
     "text": [
      "'python' is: <class 'str'>\n",
      "\n",
      "'python' is coverted to '['p', 'y', 't', 'h', 'o', 'n']', which is: <class 'list'>\n",
      "\n",
      "'python' is converted to '('p', 'y', 't', 'h', 'o', 'n')', which is <class 'tuple'>\n",
      "\n",
      "'python' is converted to '{'t', 'o', 'h', 'p', 'y', 'n'}', which is: <class 'set'>\n"
     ]
    }
   ],
   "source": [
    "s = 'python'\n",
    "print(f\"'{s}' is:\", type(s))\n",
    "\n",
    "l = list(s)\n",
    "print(f\"\\n'{s}' is coverted to '{l}', which is:\", type(l))\n",
    "\n",
    "t = tuple(s)\n",
    "print(f\"\\n'{s}' is converted to '{t}', which is:\", type(t))\n",
    "\n",
    "x = set(s)\n",
    "print(f\"\\n'{s}' is converted to '{x}', which is:\", type(x))"
   ]
  },
  {
   "cell_type": "code",
   "execution_count": 11,
   "metadata": {},
   "outputs": [
    {
     "name": "stdout",
     "output_type": "stream",
     "text": [
      "(('a', 1), ('b', 2), ('c', 3)) is: <class 'tuple'>\n",
      "\n",
      "(('a', 1), ('b', 2), ('c', 3)) is converted to {'a': 1, 'b': 2, 'c': 3}, which is: <class 'dict'>\n"
     ]
    }
   ],
   "source": [
    "tup = (('a', 1), ('b', 2), ('c', 3))\n",
    "print(f\"{tup} is:\", type(tup))\n",
    "\n",
    "d = dict(tup)\n",
    "print(f\"\\n{tup} is converted to {d}, which is:\", type(d))\n"
   ]
  }
 ],
 "metadata": {
  "interpreter": {
   "hash": "4f089d5d4fecc9b26343308b996fdd689be150f0b9db90d9fd8a6c55a5fc822c"
  },
  "kernelspec": {
   "display_name": "Python 3.7.8 64-bit",
   "language": "python",
   "name": "python3"
  },
  "language_info": {
   "codemirror_mode": {
    "name": "ipython",
    "version": 3
   },
   "file_extension": ".py",
   "mimetype": "text/x-python",
   "name": "python",
   "nbconvert_exporter": "python",
   "pygments_lexer": "ipython3",
   "version": "3.7.8"
  },
  "orig_nbformat": 4
 },
 "nbformat": 4,
 "nbformat_minor": 2
}
