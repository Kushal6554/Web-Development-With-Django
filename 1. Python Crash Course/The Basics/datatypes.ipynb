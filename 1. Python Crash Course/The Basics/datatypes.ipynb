{
 "cells": [
  {
   "cell_type": "code",
   "execution_count": 5,
   "metadata": {},
   "outputs": [
    {
     "name": "stdout",
     "output_type": "stream",
     "text": [
      "Type of a: <class 'int'>\n",
      "The value of a is:  5\n",
      "\n",
      "Type of b: <class 'float'>\n",
      "The value of b is:  5.0\n",
      "\n",
      "Type of c: <class 'complex'>\n",
      "The value of c is:  (2+4j)\n"
     ]
    }
   ],
   "source": [
    "# numeric data types\n",
    "# int\n",
    "# float\n",
    "# complex\n",
    "\n",
    "a = 5\n",
    "print (\"Type of a:\", type(a))\n",
    "print(\"The value of a is: \", a)\n",
    "\n",
    "b = 5.0\n",
    "print (\"\\nType of b:\", type(b))\n",
    "print(\"The value of b is: \", b)\n",
    "\n",
    "c = 2 + 4j\n",
    "print(\"\\nType of c:\", type(c))\n",
    "print(\"The value of c is: \", c)\n"
   ]
  },
  {
   "cell_type": "code",
   "execution_count": 6,
   "metadata": {},
   "outputs": [
    {
     "name": "stdout",
     "output_type": "stream",
     "text": [
      "hello\n",
      "5\n"
     ]
    }
   ],
   "source": [
    "string = \"hello\"\n",
    "number_5 = 5\n",
    "print(string)\n",
    "print(number_5)"
   ]
  },
  {
   "cell_type": "code",
   "execution_count": 23,
   "metadata": {},
   "outputs": [
    {
     "name": "stdout",
     "output_type": "stream",
     "text": [
      "5 <class 'int'>\n",
      "5 <class 'str'>\n",
      "$5 <class 'str'>\n",
      "python <class 'str'>\n",
      "python <class 'str'>\n",
      "python <class 'str'>\n",
      "python <class 'str'>\n"
     ]
    }
   ],
   "source": [
    "# sequence data types\n",
    "# list\n",
    "# tuple\n",
    "# string\n",
    "\n",
    "a = 5\n",
    "b = '5'\n",
    "c = \"$5\"\n",
    "print(a, type(a))\n",
    "print(b, type(b))\n",
    "print(c, type(c))\n",
    "\n",
    "# creating a string\n",
    "s = 'python'\n",
    "s1 = \"python\"\n",
    "s2 = '''python'''\n",
    "s3 = \"\"\"python\"\"\"\n",
    "print(s, type(s))\n",
    "print(s1, type(s1))\n",
    "print(s2, type(s2))\n",
    "print(s3, type(s3))"
   ]
  },
  {
   "cell_type": "code",
   "execution_count": 28,
   "metadata": {},
   "outputs": [
    {
     "name": "stdout",
     "output_type": "stream",
     "text": [
      "p\n",
      "h\n",
      "n\n",
      "p\n"
     ]
    }
   ],
   "source": [
    "# Accessing elements of String\n",
    "s = \"python\"\n",
    "r = s[0]\n",
    "print(r)\n",
    "print(s[3])\n",
    "print(s[-1])\n",
    "print(s[-6])"
   ]
  },
  {
   "cell_type": "code",
   "execution_count": 58,
   "metadata": {},
   "outputs": [
    {
     "name": "stdout",
     "output_type": "stream",
     "text": [
      "[1, 2, 5, 4, 3]\n",
      "1\n",
      "3\n",
      "[1, 2, 5, 4, 3] \n",
      "  <class 'list'>\n"
     ]
    }
   ],
   "source": [
    "# List\n",
    "l = [1,2,5,4,3]\n",
    "print(l)\n",
    "print(l[0])\n",
    "print(l[-1])\n",
    "print(l, \"\\n \", type(l))"
   ]
  },
  {
   "cell_type": "code",
   "execution_count": 59,
   "metadata": {},
   "outputs": [
    {
     "name": "stdout",
     "output_type": "stream",
     "text": [
      "(1, 2, 5, 4, 3, 'python')\n",
      "1\n",
      "python\n",
      "(1, 2, 5, 4, 3, 'python') \n",
      " <class 'tuple'>\n"
     ]
    }
   ],
   "source": [
    "# Tuple\n",
    "t = (1,2,5,4,3,'python')\n",
    "print(t)\n",
    "print(t[0])\n",
    "print(t[-1])\n",
    "print(t, \"\\n\", type(t))"
   ]
  },
  {
   "cell_type": "code",
   "execution_count": 55,
   "metadata": {},
   "outputs": [
    {
     "name": "stdout",
     "output_type": "stream",
     "text": [
      "True\n",
      "False\n",
      "True is a Boolean <class 'bool'>\n",
      "False is a Boolean <class 'bool'>\n",
      "True <class 'bool'> and False <class 'bool'> are the Booleans\n"
     ]
    }
   ],
   "source": [
    "# Boolean => true or false\n",
    "a = True\n",
    "b = False\n",
    "print(a)\n",
    "print(b)\n",
    "print(a, \"is a Boolean\", type(a))\n",
    "print(b, \"is a Boolean\", type(b))\n",
    "print(a, type(a), \"and\", b, type(b), \"are the Booleans\")"
   ]
  },
  {
   "cell_type": "code",
   "execution_count": 68,
   "metadata": {},
   "outputs": [
    {
     "name": "stdout",
     "output_type": "stream",
     "text": [
      "{1, 2, 3, 4, 5}\n",
      "{1, 2, 3, 4, 5} \n",
      " <class 'set'>\n"
     ]
    }
   ],
   "source": [
    "# Set\n",
    "s = {1,2,3,4,5,5}\n",
    "print(s)\n",
    "print(s, \"\\n\", type(s))"
   ]
  },
  {
   "cell_type": "code",
   "execution_count": 7,
   "metadata": {},
   "outputs": [
    {
     "name": "stdout",
     "output_type": "stream",
     "text": [
      "{'h', 'o', 't', 'n', 'y', 'P'}\n",
      "Python is: <class 'str'> \n",
      "{'h', 'o', 't', 'n', 'y', 'P'} is: <class 'set'>\n"
     ]
    }
   ],
   "source": [
    "s = 'Python'\n",
    "r = set(s)\n",
    "print(r)\n",
    "print(f\"{s} is:\", type(s), f\"\\n{r} is:\", type(r))"
   ]
  },
  {
   "cell_type": "code",
   "execution_count": 74,
   "metadata": {},
   "outputs": [
    {
     "name": "stdout",
     "output_type": "stream",
     "text": [
      "{'a': 1, 'b': 2, 'c': 3}\n",
      "1\n",
      "2\n",
      "3\n",
      "{'a': 1, 'b': 2, 'c': 3} \n",
      " <class 'dict'>\n",
      "The value of a is: 1\n",
      "The value of b is: 2\n",
      "The value of c is: 3\n",
      "The values of a, b, and c are: 1 , 2 , and 3\n"
     ]
    }
   ],
   "source": [
    "# Dictionary\n",
    "d = {'a':1, 'b':2, 'c':3}\n",
    "print(d)\n",
    "print(d['a'])\n",
    "print(d['b'])\n",
    "print(d['c'])\n",
    "print(d, \"\\n\", type(d))\n",
    "print(\"The value of a is:\", d.get('a'))\n",
    "print(\"The value of b is:\", d.get('b'))\n",
    "print(\"The value of c is:\", d.get('c'))\n",
    "print(\"The values of a, b, and c are:\", d.get('a'), \",\", d.get('b'), \",\", \"and\", d.get('c'))"
   ]
  },
  {
   "cell_type": "code",
   "execution_count": 13,
   "metadata": {},
   "outputs": [
    {
     "name": "stdout",
     "output_type": "stream",
     "text": [
      "{'name': 'John', 'Age': 20, 'Marks': [70, 80, 90]}\n",
      "[70, 80, 90]\n",
      "[70, 80, 90]\n",
      "[70, 80, 90]\n"
     ]
    }
   ],
   "source": [
    "students = {\n",
    "    'name':'John',\n",
    "    'Age':20,\n",
    "    'Marks': [70,80,90]\n",
    "}\n",
    "print(students)\n",
    "\n",
    "print(students['Marks'])\n",
    "\n",
    "print(students['Marks'])\n",
    "print(students.get('Marks'))"
   ]
  },
  {
   "cell_type": "code",
   "execution_count": 25,
   "metadata": {},
   "outputs": [
    {
     "name": "stdout",
     "output_type": "stream",
     "text": [
      "Hello\n",
      "World\n",
      "The value of a is: Hello\n",
      "The value of a is: Hello and the value of b is: World\n",
      "The value of a is: Hello and the value of b is: World\n"
     ]
    }
   ],
   "source": [
    "a = \"Hello\"\n",
    "b = \"World\"\n",
    "print(a)\n",
    "print(b)\n",
    "print(\"The value of a is:\", a)\n",
    "print(\"The value of a is: {} and the value of b is: {}\".format(a,b))\n",
    "print((f\"The value of a is: {a} and the value of b is: {b}\"))"
   ]
  }
 ],
 "metadata": {
  "interpreter": {
   "hash": "4f089d5d4fecc9b26343308b996fdd689be150f0b9db90d9fd8a6c55a5fc822c"
  },
  "kernelspec": {
   "display_name": "Python 3.7.8 64-bit",
   "language": "python",
   "name": "python3"
  },
  "language_info": {
   "codemirror_mode": {
    "name": "ipython",
    "version": 3
   },
   "file_extension": ".py",
   "mimetype": "text/x-python",
   "name": "python",
   "nbconvert_exporter": "python",
   "pygments_lexer": "ipython3",
   "version": "3.7.8"
  },
  "orig_nbformat": 4
 },
 "nbformat": 4,
 "nbformat_minor": 2
}
