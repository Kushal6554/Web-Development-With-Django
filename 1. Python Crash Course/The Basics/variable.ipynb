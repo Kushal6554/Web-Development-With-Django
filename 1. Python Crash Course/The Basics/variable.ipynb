{
 "cells": [
  {
   "cell_type": "code",
   "execution_count": 8,
   "metadata": {},
   "outputs": [
    {
     "name": "stdout",
     "output_type": "stream",
     "text": [
      "Age: 45\n",
      "Salary: 1456.8\n",
      "Name: John\n",
      "\n",
      "Age: 45\n",
      "Salary: 1234.5\n",
      "Name: John\n"
     ]
    }
   ],
   "source": [
    "# Variable declaration\n",
    "\n",
    "# An integer assignment\n",
    "age = 45 \n",
    "\n",
    "# A floating point\n",
    "salary = 1456.8\n",
    "\n",
    "# A string\n",
    "name = \"John\"\n",
    "\n",
    "print(\"Age:\", age)\n",
    "print(\"Salary:\",salary)\n",
    "print(\"Name:\", name)\n",
    "\n",
    "# redeclaring the varaible\n",
    "age = 45\n",
    "salary = 1234.5\n",
    "Name = \"Mark\"\n",
    "\n",
    "# Display\n",
    "print(\"\\nAge:\", age)\n",
    "print(\"Salary:\", salary)\n",
    "print(\"Name:\", name)"
   ]
  },
  {
   "cell_type": "code",
   "execution_count": 9,
   "metadata": {},
   "outputs": [
    {
     "name": "stdout",
     "output_type": "stream",
     "text": [
      "10\n",
      "10\n",
      "10\n"
     ]
    }
   ],
   "source": [
    "# Assigning a single value to multiple variables:\n",
    "a = b = c = 10\n",
    "# This is equivalent to \n",
    "# a = 10\n",
    "# b = 10\n",
    "# c = 10\n",
    "\n",
    "print(a)\n",
    "print(b)\n",
    "print(c)"
   ]
  },
  {
   "cell_type": "code",
   "execution_count": 10,
   "metadata": {},
   "outputs": [
    {
     "name": "stdout",
     "output_type": "stream",
     "text": [
      "1\n",
      "20.2\n",
      "Python\n"
     ]
    }
   ],
   "source": [
    "# Assigning differnt values to multiple variabels at the same time\n",
    "a, b, c = 1, 20.2, \"Python\"\n",
    "# This is equivalent to\n",
    "# a = 1\n",
    "# b = 20.2\n",
    "# c = \"Python\"\n",
    "\n",
    "print(a)\n",
    "print(b)\n",
    "print(c)"
   ]
  },
  {
   "cell_type": "code",
   "execution_count": 12,
   "metadata": {},
   "outputs": [
    {
     "name": "stdout",
     "output_type": "stream",
     "text": [
      "10\n",
      "Python\n"
     ]
    }
   ],
   "source": [
    "# Can we use the same name for differnt types?\n",
    "a = 10\n",
    "print(a) # Returns the integer 10\n",
    "a = \"Python\"\n",
    "print(a) # Returns the most recent assignment of a, ie., \"Python\" NOT 10"
   ]
  },
  {
   "cell_type": "code",
   "execution_count": 15,
   "metadata": {},
   "outputs": [
    {
     "name": "stdout",
     "output_type": "stream",
     "text": [
      "30\n",
      "ManojKhadka\n"
     ]
    }
   ],
   "source": [
    "# How does + operator work with variables?\n",
    "a = 10 # integer\n",
    "b = 20 # integer\n",
    "print(a+b) # Adds 10 to 20 to return 30\n",
    "\n",
    "a = \"Manoj\"\n",
    "b = \"Khadka\"\n",
    "print(a+b) #COncatenates \"Manoj\" and \"Khadka\" to return ManojKhadka"
   ]
  }
 ],
 "metadata": {
  "interpreter": {
   "hash": "4f089d5d4fecc9b26343308b996fdd689be150f0b9db90d9fd8a6c55a5fc822c"
  },
  "kernelspec": {
   "display_name": "Python 3.7.8 64-bit",
   "language": "python",
   "name": "python3"
  },
  "language_info": {
   "codemirror_mode": {
    "name": "ipython",
    "version": 3
   },
   "file_extension": ".py",
   "mimetype": "text/x-python",
   "name": "python",
   "nbconvert_exporter": "python",
   "pygments_lexer": "ipython3",
   "version": "3.7.8"
  },
  "orig_nbformat": 4
 },
 "nbformat": 4,
 "nbformat_minor": 2
}
