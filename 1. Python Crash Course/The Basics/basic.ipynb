{
 "cells": [
  {
   "cell_type": "code",
   "execution_count": 3,
   "metadata": {},
   "outputs": [
    {
     "name": "stdout",
     "output_type": "stream",
     "text": [
      "Hello world this is my first python program\n"
     ]
    }
   ],
   "source": [
    "print(\"Hello world this is my first python program\") # Shift + Enter or CTRL + ALT + Enter"
   ]
  },
  {
   "cell_type": "code",
   "execution_count": 2,
   "metadata": {},
   "outputs": [
    {
     "name": "stdout",
     "output_type": "stream",
     "text": [
      "Hello\n",
      "To run the code only, press CTRL + ALT + Enter\n",
      "To run the code and add next code cell, press Shift + Enter\n"
     ]
    }
   ],
   "source": [
    "print(\"Hello\") # Shift + Enter or CTRL + ALT + Enter\n",
    "print(\"To run the code only, press CTRL + ALT + Enter\")\n",
    "print(\"To run the code and add next code cell, press Shift + Enter\")"
   ]
  }
 ],
 "metadata": {
  "interpreter": {
   "hash": "4f089d5d4fecc9b26343308b996fdd689be150f0b9db90d9fd8a6c55a5fc822c"
  },
  "kernelspec": {
   "display_name": "Python 3.7.8 64-bit",
   "language": "python",
   "name": "python3"
  },
  "language_info": {
   "codemirror_mode": {
    "name": "ipython",
    "version": 3
   },
   "file_extension": ".py",
   "mimetype": "text/x-python",
   "name": "python",
   "nbconvert_exporter": "python",
   "pygments_lexer": "ipython3",
   "version": "3.7.8"
  },
  "orig_nbformat": 4
 },
 "nbformat": 4,
 "nbformat_minor": 2
}
