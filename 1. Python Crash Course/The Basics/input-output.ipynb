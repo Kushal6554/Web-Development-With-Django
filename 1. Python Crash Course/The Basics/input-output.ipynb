{
 "cells": [
  {
   "cell_type": "code",
   "execution_count": 9,
   "metadata": {},
   "outputs": [
    {
     "name": "stdout",
     "output_type": "stream",
     "text": [
      "Hello Kushal\n",
      "Kushal is a <class 'str'>\n"
     ]
    }
   ],
   "source": [
    "# Python gets user input with a message\n",
    "\n",
    "# Taking input from the user\n",
    "name = input(\"Enter your name: \")\n",
    "\n",
    "# Output\n",
    "print(\"Hello \" + name)\n",
    "result = type(name)\n",
    "print(name, \"is a\", result)"
   ]
  },
  {
   "cell_type": "code",
   "execution_count": 4,
   "metadata": {},
   "outputs": [],
   "source": [
    "# input() Calling input() function\n",
    "# print() Calling print() function\n",
    "# type() Calling type() function"
   ]
  },
  {
   "cell_type": "code",
   "execution_count": 19,
   "metadata": {},
   "outputs": [
    {
     "name": "stdout",
     "output_type": "stream",
     "text": [
      "4 <class 'str'>\n",
      "5\n"
     ]
    }
   ],
   "source": [
    "# Integer input in Python\n",
    "# Taking input from the user as integer\n",
    "\n",
    "num = input(\"Enter a number:\")\n",
    "print(num, type(num))\n",
    "n = int(num)\n",
    "add = n + 1\n",
    "\n",
    "print(add)\n"
   ]
  },
  {
   "cell_type": "code",
   "execution_count": 26,
   "metadata": {},
   "outputs": [
    {
     "name": "stdout",
     "output_type": "stream",
     "text": [
      "Python\n",
      "P y t h o n\n",
      "Python\n"
     ]
    }
   ],
   "source": [
    "# Python print output\n",
    "# print() method\n",
    "print(\"Python\")\n",
    "\n",
    "# Code for disabling the softspace feature\n",
    "print('P','y','t','h','o','n')\n",
    "print('P','y','t','h','o','n', sep = \"\")"
   ]
  },
  {
   "cell_type": "code",
   "execution_count": 34,
   "metadata": {},
   "outputs": [
    {
     "name": "stdout",
     "output_type": "stream",
     "text": [
      "Python$\n",
      "P_y_t_h_o_n Done"
     ]
    }
   ],
   "source": [
    "# Python print output with the custom sep and end parameter\n",
    "s = \"Python\"\n",
    "print(s, end=\"$\")\n",
    "print()\n",
    "print('P','y','t','h','o','n', sep = \"_\", end = \" Done\")"
   ]
  },
  {
   "cell_type": "code",
   "execution_count": 46,
   "metadata": {},
   "outputs": [
    {
     "name": "stdout",
     "output_type": "stream",
     "text": [
      "Hello World\n",
      "Hello to the entire World\n",
      "The value of a is Hello and the value of b is World\n"
     ]
    }
   ],
   "source": [
    "# Python string formatting using F string and format()\n",
    "a = \"Hello\"\n",
    "b = \"World\"\n",
    "\n",
    "print(a,b)\n",
    "\n",
    "print('{} to the entire {}'.format(a,b))\n",
    "\n",
    "print(f\"The value of a is {a} and the value of b is {b}\")"
   ]
  },
  {
   "cell_type": "code",
   "execution_count": 52,
   "metadata": {},
   "outputs": [
    {
     "name": "stdout",
     "output_type": "stream",
     "text": [
      "The value of a is 1 and the value of b 2\n",
      "The value of a is 1 and the value of b 2\n"
     ]
    }
   ],
   "source": [
    "a = 1\n",
    "b = 2\n",
    "print('The value of a is {0} and the value of b {1}'.format(a,b))\n",
    "#The above code is equivalent to the below code\n",
    "print('The value of a is {} and the value of b {}'.format(a,b))"
   ]
  }
 ],
 "metadata": {
  "interpreter": {
   "hash": "4f089d5d4fecc9b26343308b996fdd689be150f0b9db90d9fd8a6c55a5fc822c"
  },
  "kernelspec": {
   "display_name": "Python 3.7.8 64-bit",
   "language": "python",
   "name": "python3"
  },
  "language_info": {
   "codemirror_mode": {
    "name": "ipython",
    "version": 3
   },
   "file_extension": ".py",
   "mimetype": "text/x-python",
   "name": "python",
   "nbconvert_exporter": "python",
   "pygments_lexer": "ipython3",
   "version": "3.7.8"
  },
  "orig_nbformat": 4
 },
 "nbformat": 4,
 "nbformat_minor": 2
}
