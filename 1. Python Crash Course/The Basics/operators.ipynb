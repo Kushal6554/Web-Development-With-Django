{
 "cells": [
  {
   "cell_type": "code",
   "execution_count": 48,
   "metadata": {},
   "outputs": [
    {
     "name": "stdout",
     "output_type": "stream",
     "text": [
      "The sum of 11 and 4 is: 15\n",
      "The sum of 11 and 4 is: 15\n",
      "\n",
      "The difference is: 7\n",
      "The difference between 11 and 4 is: 7\n",
      "The difference between 4 and 11 is: -7\n",
      "The difference between 4 and 11 is: -7\n",
      "The difference between 11 and 4 is: 7\n",
      "\n",
      "The product is: 44\n",
      "11 when multiplied by 4 gives: 44\n",
      "11 when multiplied by 4 gives: 44\n",
      "\n",
      "The result of division (float) is: 2.75\n",
      "11 when divided by 4 gives: 2.75\n",
      "11 when divided by 4 gives: 2.75\n",
      "\n",
      "The result of division (floor) is: 2\n",
      "11 when divided by 4 gives the floor: 2\n",
      "11 when divided by 4 gives the floor: 2\n",
      "\n",
      "The modulus value is: 3\n",
      "11 when divided by 4 gives the remainder: 3\n",
      "11 when divide by 4 gives the remainder: 3\n"
     ]
    }
   ],
   "source": [
    "# Examples of Arithmetic Operator\n",
    "a = 11\n",
    "b = 4\n",
    "\n",
    "# Addition of numbers\n",
    "add = a + b\n",
    "print(f\"The sum of {a} and {b} is:\", add)\n",
    "print(\"The sum of {} and {} is:\".format(a,b), add)\n",
    "\n",
    "# Substraction of numbers\n",
    "sub = a - b\n",
    "print(\"\\nThe difference is:\", sub)\n",
    "print(f\"The difference between {a} and {b} is:\", a - b)\n",
    "print(f\"The difference between {b} and {a} is:\", b - a)\n",
    "print('The difference between {1} and {0} is:'.format(a,b), b - a)\n",
    "print('The difference between {} and {} is:'.format(a,b), a - b)\n",
    "\n",
    "# Multiplication of numbers\n",
    "pro = a * b\n",
    "print(\"\\nThe product is:\", pro)\n",
    "print(f\"{a} when multiplied by {b} gives:\", pro)\n",
    "print('{0} when multiplied by {1} gives:'.format(a,b), pro)\n",
    "\n",
    "# Division (float) of number\n",
    "div_float = a/b\n",
    "print(\"\\nThe result of division (float) is:\", div_float)\n",
    "print(f\"{a} when divided by {b} gives:\", div_float)\n",
    "print(\"{} when divided by {} gives:\".format(a,b), div_float)\n",
    "\n",
    "# Division (floor) of number\n",
    "div_floor = a//b\n",
    "print(\"\\nThe result of division (floor) is:\", div_floor)\n",
    "print('{} when divided by {} gives the floor:'.format(a,b), div_floor)\n",
    "print(f\"{a} when divided by {b} gives the floor:\", div_floor)\n",
    "\n",
    "# Modulo of both number\n",
    "mod = a % b\n",
    "print(\"\\nThe modulus value is:\", mod)\n",
    "print('{} when divided by {} gives the remainder:'.format(a,b), mod)\n",
    "print(f\"{a} when divide by {b} gives the remainder:\", mod)\n"
   ]
  },
  {
   "cell_type": "code",
   "execution_count": 24,
   "metadata": {},
   "outputs": [
    {
     "name": "stdout",
     "output_type": "stream",
     "text": [
      "12 is greater than 23 is: False\n",
      "\n",
      "12 is less than 23 is: True\n",
      "\n",
      "12 is equal to 23 is: False\n",
      "12 is equal to 23 is: False\n",
      "\n",
      "12 is not equal to 23 is: True\n",
      "12 is not equal to 23 is: True\n",
      "\n",
      "12 is greater than or equal to 23 is: False\n",
      "12 is greater than or equal to 23 is: False\n",
      "\n",
      "12 is less than or equal to 23 is: True\n",
      "12 is less than or equal to 23 is: True\n"
     ]
    }
   ],
   "source": [
    "# Examples of relational operators\n",
    "a = int(input(\"Enter a number:\"))\n",
    "b = int(input(\"Enter the second number\"))\n",
    "\n",
    "# a>b is False\n",
    "print(f\"{a} is greater than {b} is:\", a > b)\n",
    "\n",
    "# a<b is True\n",
    "print('\\n{} is less than {} is:'.format(a,b), a < b)\n",
    "\n",
    "# a == b is False \n",
    "print(f\"\\n{a} is equal to {b} is:\", a == b)\n",
    "print('{} is equal to {} is:'.format(a,b), a == b)\n",
    "\n",
    "# a != b is True \n",
    "print(f\"\\n{a} is not equal to {b} is:\", a != b)\n",
    "print('{} is not equal to {} is:'.format(a,b), a != b)\n",
    "\n",
    "# a >= b is False\n",
    "print('\\n{} is greater than or equal to {} is:'.format(a,b), a >= b)\n",
    "print(f'{a} is greater than or equal to {b} is:', a >= b)\n",
    "\n",
    "# a <= b is True\n",
    "print(f\"\\n{a} is less than or equal to {b} is:\", a <= b)\n",
    "print('{} is less than or equal to {} is:'.format(a,b), a <= b)\n"
   ]
  },
  {
   "cell_type": "code",
   "execution_count": 31,
   "metadata": {},
   "outputs": [
    {
     "name": "stdout",
     "output_type": "stream",
     "text": [
      "True and False is equivalent to: False\n",
      "True or False is equivalent to: True\n",
      "Not True is equivalent to: False\n",
      "Not False is equivalent to: True\n"
     ]
    }
   ],
   "source": [
    "# Examples of logical operator\n",
    "a = True\n",
    "b = False \n",
    "\n",
    "# Print a and b is False\n",
    "print(f\"{a} and {b} is equivalent to:\", a and b)\n",
    "\n",
    "# Print a or b is True\n",
    "print(F\"{a} or {b} is equivalent to:\", a or b)\n",
    "\n",
    "# Print not a is False\n",
    "print(f\"Not {a} is equivalent to:\", not a)\n",
    "print(f\"Not {b} is equivalent to:\", not b)\n"
   ]
  },
  {
   "cell_type": "code",
   "execution_count": 27,
   "metadata": {},
   "outputs": [
    {
     "name": "stdout",
     "output_type": "stream",
     "text": [
      "The value of b which is assigned to the value of a, i.e., 10, becomes: 10\n",
      "\n",
      "Immediate Previous value of b: 10\n",
      "The new value of b which is assigned to the sum of a, i.e., 10 and immediate previous value of b: 20\n",
      "\n",
      "Immediate Previous value of b is: 20\n",
      "The new value of b is which is assigned to the difference of immediate previous value of b and a, i.e., 10: 10\n",
      "\n",
      "Immediate Previous value of b: 10\n",
      "The new value of b which is assigned to the product of immediate previous value of b and a, i.e., {a} 100\n"
     ]
    }
   ],
   "source": [
    "# Examples of Assignment Operators\n",
    "a = 10\n",
    "\n",
    "# Assign value\n",
    "b = a\n",
    "print(f\"The value of b which is assigned to the value of a, i.e., {a}, becomes:\", b)\n",
    "\n",
    "# Add and assign value\n",
    "print(\"\\nImmediate Previous value of b:\", b)\n",
    "b += a\n",
    "print(f\"The new value of b which is assigned to the sum of a, i.e., {a} and immediate previous value of b:\", b)\n",
    "\n",
    "# Subtract and assign value\n",
    "print(\"\\nImmediate Previous value of b is:\", b)\n",
    "b -= a\n",
    "print(f\"The new value of b is which is assigned to the difference of immediate previous value of b and a, i.e., {a}:\", b)\n",
    "\n",
    "# Multiply and assign value\n",
    "print(\"\\nImmediate Previous value of b:\",b)\n",
    "b *= a\n",
    "print(\"The new value of b which is assigned to the product of immediate previous value of b and a, i.e., {a}\", b)"
   ]
  },
  {
   "cell_type": "code",
   "execution_count": 37,
   "metadata": {},
   "outputs": [
    {
     "name": "stdout",
     "output_type": "stream",
     "text": [
      "Is a, ie, 10 the same as b, ie, 20? False\n",
      "Is a, ie, 10 different from b, ie, 20? True\n",
      "The numbers a, ie, 10 and c, ie, 10 are the same: True\n",
      "is the number a, ie, 10 the same as the number d, ie, 30? False\n"
     ]
    }
   ],
   "source": [
    "#  Examples of Identity Operators\n",
    "a = int(input(\"Enter the number a:\"))\n",
    "b = int(input(\"Enter the number b\"))\n",
    "c = a\n",
    "d = int(input(\"Enter the number d\"))\n",
    "\n",
    "print(f\"Is a, ie, {a} the same as b, ie, {b}?\", a is b)\n",
    "print(f\"Is a, ie, {a} different from b, ie, {b}?\", a is not b)\n",
    "print(f\"The numbers a, ie, {a} and c, ie, {c} are the same:\", a is c)\n",
    "print(f\"is the number a, ie, {a} the same as the number d, ie, {d}?\", a is d)"
   ]
  },
  {
   "cell_type": "code",
   "execution_count": 40,
   "metadata": {},
   "outputs": [
    {
     "name": "stdout",
     "output_type": "stream",
     "text": [
      "24 is NOT present in the list [10, 20, 30, 40, 50]\n",
      "20 is present in the list [10, 20, 30, 40, 50]\n"
     ]
    }
   ],
   "source": [
    "# Python program to illustrate 'in' and 'not in' operators\n",
    "\n",
    "x = int(input(\"Enter a number x\"))\n",
    "y = int(input(\"Enter a number y\"))\n",
    "\n",
    "a = int(input(\"Enter a list element\"))\n",
    "b = int(input(\"Enter a list element\"))\n",
    "c = int(input(\"Enter a list element\"))\n",
    "d = int(input(\"Enter a list element\"))\n",
    "e = int(input(\"Enter a list element\"))\n",
    "\n",
    "list = [a, b, c, d, e]\n",
    "\n",
    "if (x not in list):\n",
    "    print(f\"{x} is NOT present in the list {list}\")\n",
    "else:\n",
    "    print(f\"{x} is present in the given list {list}\")\n",
    "\n",
    "if (y in list):\n",
    "    print(f\"{y} is present in the list {list}\")\n",
    "else:\n",
    "    print(f\"{y} is NOT present in the list {list}\")\n",
    "\n"
   ]
  },
  {
   "cell_type": "code",
   "execution_count": 51,
   "metadata": {},
   "outputs": [
    {
     "name": "stdout",
     "output_type": "stream",
     "text": [
      "Output is 610, NOT 900\n",
      "You are not Kushal/Kushal6554. Try again later !!\n"
     ]
    }
   ],
   "source": [
    "# Examples of Operator Precedence\n",
    "\n",
    "# Precedence of '+' & '*'\n",
    "expr = 10 + 20 * 30\n",
    "alt = (10 + 20) * 30\n",
    "print(f\"Output is {expr}, NOT {alt}\")\n",
    "\n",
    "# Precedence of 'or' & 'and'\n",
    "name = input(\"Enter your name:\")\n",
    "age = int(input(\"Enter your age:\"))\n",
    "\n",
    "if name == \"Kushal\" or name == \"Kushal6554\" and age >=40:\n",
    "    print(f\"Hello {name}, you are welcome to the group!\")\n",
    "else:\n",
    "    print(\"You are not Kushal/Kushal6554. Try again later !!\")"
   ]
  },
  {
   "cell_type": "code",
   "execution_count": 52,
   "metadata": {},
   "outputs": [
    {
     "name": "stdout",
     "output_type": "stream",
     "text": [
      "100.0\n",
      "6\n",
      "4\n",
      "512\n"
     ]
    }
   ],
   "source": [
    "# Operator Associativity\n",
    "print(100/10*10) # Left to right\n",
    "print(5 - 2 + 3) # Left to right\n",
    "print(5 + 2 - 3) # Left to right\n",
    "print(2 ** 3 ** 2) # Right to left)"
   ]
  }
 ],
 "metadata": {
  "interpreter": {
   "hash": "4f089d5d4fecc9b26343308b996fdd689be150f0b9db90d9fd8a6c55a5fc822c"
  },
  "kernelspec": {
   "display_name": "Python 3.7.8 64-bit",
   "language": "python",
   "name": "python3"
  },
  "language_info": {
   "codemirror_mode": {
    "name": "ipython",
    "version": 3
   },
   "file_extension": ".py",
   "mimetype": "text/x-python",
   "name": "python",
   "nbconvert_exporter": "python",
   "pygments_lexer": "ipython3",
   "version": "3.7.8"
  },
  "orig_nbformat": 4
 },
 "nbformat": 4,
 "nbformat_minor": 2
}
