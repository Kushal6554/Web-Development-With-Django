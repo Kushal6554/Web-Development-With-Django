{
 "cells": [
  {
   "cell_type": "code",
   "execution_count": 2,
   "metadata": {},
   "outputs": [
    {
     "name": "stdout",
     "output_type": "stream",
     "text": [
      "'25 is greater than 15' is: True\n",
      "'25 is equal to 5' AND '1 is less than 9' is: False\n"
     ]
    }
   ],
   "source": [
    "# Control Flow (Loops and Conditional Statements)\n",
    "\n",
    "# Boolean Expressions\n",
    "i = int(input(\"Enter an integer, i\"))\n",
    "j = int(input(\"Enter second integer, j\"))\n",
    "print(f\"'{i} is greater than 15' is:\", i > 15)\n",
    "print(f\"'{i} is equal to 5' AND '{j} is less than 9' is:\", i == 5 and j < 9)"
   ]
  },
  {
   "cell_type": "code",
   "execution_count": 4,
   "metadata": {},
   "outputs": [
    {
     "name": "stdout",
     "output_type": "stream",
     "text": [
      "The integer i, ie, 12 is less than 15\n"
     ]
    }
   ],
   "source": [
    "# if statements\n",
    "i = int(input(\"Enter an integer\"))\n",
    "\n",
    "if (i > 15):\n",
    "    print(f\"The integer i, ie, {i} is greater than 15\")\n",
    "print(f\"The integer i, ie, {i} is less than 15\")"
   ]
  },
  {
   "cell_type": "code",
   "execution_count": 5,
   "metadata": {},
   "outputs": [
    {
     "name": "stdout",
     "output_type": "stream",
     "text": [
      "12 is smaller than 15\n",
      "I am in 'if' block.\n",
      "I am not in 'if' and 'else' blocks\n"
     ]
    }
   ],
   "source": [
    "# if ..else statement\n",
    "i = int(input(\"Enter an integer\"))\n",
    "if (i < 15):\n",
    "    print(f\"{i} is smaller than 15\")\n",
    "    print(\"I am in 'if' block.\")\n",
    "else:\n",
    "    print(f\"{i} is greater than 15\")\n",
    "    print(\"I am in 'else' block\")\n",
    "print(\"I am not in 'if' and 'else' blocks\")"
   ]
  },
  {
   "cell_type": "code",
   "execution_count": 6,
   "metadata": {},
   "outputs": [
    {
     "name": "stdout",
     "output_type": "stream",
     "text": [
      "'i', ie., 20 is definitely 20\n"
     ]
    }
   ],
   "source": [
    "# if ..elif ..else statements\n",
    "i = 20\n",
    "if (i == 10):\n",
    "    print(f\"'i', ie., {i} is definitely 10\")\n",
    "elif (i == 15):\n",
    "    print(f\"'i', ie., {i} is definitely 15\")\n",
    "elif (i == 20):\n",
    "    print(f\"'i', ie., {i} is definitely 20\")\n",
    "else:\n",
    "    print(f\"'i,' ie., {i} is not present\")"
   ]
  },
  {
   "cell_type": "code",
   "execution_count": 9,
   "metadata": {},
   "outputs": [
    {
     "name": "stdout",
     "output_type": "stream",
     "text": [
      "H\n",
      "e\n",
      "l\n",
      "l\n",
      "o\n",
      "1\n",
      "2\n",
      "3\n",
      "4\n",
      "5\n"
     ]
    }
   ],
   "source": [
    "# for loops\n",
    "# for element in s:\n",
    "#   print(element)\n",
    "\n",
    "s = \"Hello\"\n",
    "l = list(s)\n",
    "\n",
    "for ele in l:\n",
    "    print(ele)\n",
    "\n",
    "l2 = [1,2,3,4,5]\n",
    "for a in l2:\n",
    "    print(a)"
   ]
  },
  {
   "cell_type": "code",
   "execution_count": 43,
   "metadata": {},
   "outputs": [
    {
     "name": "stdout",
     "output_type": "stream",
     "text": [
      "web\n",
      "development\n",
      "with django\n",
      "web\n",
      "development\n",
      "with\n",
      "django\n",
      "D\n",
      "j\n",
      "a\n",
      "n\n",
      "g\n",
      "o\n",
      "a\n",
      "a : 100\n",
      "b\n",
      "b : 200\n",
      "c\n",
      "c : 300\n"
     ]
    }
   ],
   "source": [
    "# for loops\n",
    "\n",
    "# python program to illustrate\n",
    "# iterating over a list\n",
    "l = [\"web\", \"development\", \"with django\"]\n",
    "for i in l:\n",
    "    print(i)\n",
    "\n",
    "# Iterating over a tuple (immutable)\n",
    "t = (\"web\", \"development\", \"with\", \"django\")\n",
    "for i in t:\n",
    "    print(i)\n",
    "\n",
    "# Iterating over a string\n",
    "s = \"Django\"\n",
    "for i in s:\n",
    "    print(i)\n",
    "\n",
    "# Iterating over a dictionary\n",
    "d = {'a':100, 'b':200, 'c':300}\n",
    "for i in d:\n",
    "    print(i)\n",
    "    print(f\"{i} : {d[i]}\")"
   ]
  },
  {
   "cell_type": "code",
   "execution_count": 44,
   "metadata": {},
   "outputs": [
    {
     "name": "stdout",
     "output_type": "stream",
     "text": [
      "1: Hello there\n",
      "2: Hello there\n",
      "3: Hello there\n"
     ]
    }
   ],
   "source": [
    "# while loops\n",
    "\n",
    "# Python program to illustrate\n",
    "# while loop\n",
    "count = 0\n",
    "while (count < 3):\n",
    "    count = count + 1\n",
    "    print(f\"{count}: Hello there\")"
   ]
  },
  {
   "cell_type": "code",
   "execution_count": 22,
   "metadata": {},
   "outputs": [
    {
     "name": "stdout",
     "output_type": "stream",
     "text": [
      "Current Letter: P\n",
      "Current Letter: y\n",
      "Current Letter: t\n",
      "\n",
      "\n",
      "Current variable value: 10\n",
      "Current variable value: 9\n",
      "Current variable value: 8\n",
      "Current variable value: 7\n",
      "Current variable value: 6\n",
      "\n",
      "\n",
      "w\n",
      "e\n",
      "out of 'for loop'\n"
     ]
    }
   ],
   "source": [
    "# break statement\n",
    "# Using for loop\n",
    "for letter in \"Python\":\n",
    "    if letter == 'h':\n",
    "        break\n",
    "    print(\"Current Letter:\", letter)\n",
    "print(\"\\n\")\n",
    "\n",
    "# Using while loop\n",
    "var = 10\n",
    "while var > 0:\n",
    "    print(\"Current variable value:\", var)\n",
    "    var = var - 1\n",
    "    if var == 5:\n",
    "        break\n",
    "print(\"\\n\")\n",
    "\n",
    "# Using for loop\n",
    "text = 'webdevelopmentwithdjango'\n",
    "for letter in text:\n",
    "    print(letter)\n",
    "    if letter == 'e' or letter == 'p':\n",
    "        break\n",
    "print(\"out of 'for loop'\")"
   ]
  },
  {
   "cell_type": "code",
   "execution_count": 37,
   "metadata": {},
   "outputs": [
    {
     "name": "stdout",
     "output_type": "stream",
     "text": [
      "CUrrent Letter: P\n",
      "CUrrent Letter: y\n",
      "CUrrent Letter: t\n",
      "CUrrent Letter: o\n",
      "CUrrent Letter: n\n",
      "\n",
      "\n",
      "Current letter: w\n",
      "Current letter: b\n",
      "Current letter: d\n",
      "Current letter: v\n",
      "Current letter: l\n",
      "Current letter: p\n",
      "Current letter: m\n",
      "Current letter: n\n",
      "Current letter: t\n",
      "Out of 'for loop'\n",
      "\n",
      "Current variable value: 9\n",
      "Current variable value: 8\n",
      "Current variable value: 7\n",
      "Current variable value: 6\n",
      "Current variable value: 4\n",
      "Current variable value: 3\n",
      "Current variable value: 2\n",
      "Current variable value: 1\n",
      "Current variable value: 0\n",
      "Good bye!\n"
     ]
    }
   ],
   "source": [
    "# continue statement\n",
    "# Using for loop\n",
    "for letter in \"Python\":\n",
    "    if letter == \"h\":\n",
    "        continue\n",
    "    print(\"CUrrent Letter:\", letter)\n",
    "print(\"\\n\")\n",
    "\n",
    "text = 'webdevelopment'\n",
    "for letter in text:\n",
    "    if letter == 'a' or letter == 'e' or letter == 'i' or letter == 'o' or letter == 'u':\n",
    "        continue\n",
    "    print(\"Current letter:\", letter)\n",
    "print(\"Out of 'for loop'\\n\")\n",
    "\n",
    "var = 10\n",
    "while var > 0:\n",
    "    var = var - 1\n",
    "    if var == 5:\n",
    "        continue\n",
    "    print(\"Current variable value:\", var)\n",
    "print(\"Good bye!\")\n"
   ]
  },
  {
   "cell_type": "code",
   "execution_count": 40,
   "metadata": {},
   "outputs": [
    {
     "name": "stdout",
     "output_type": "stream",
     "text": [
      "Current letter: P\n",
      "Current letter: y\n",
      "Current letter: t\n",
      "This is pass block\n",
      "Current letter: h\n",
      "Current letter: o\n",
      "Current letter: n\n",
      "Good bye!\n",
      "b\n",
      "c\n",
      "d\n"
     ]
    }
   ],
   "source": [
    "# The pass statement\n",
    "for letter in \"Python\":\n",
    "    if letter == 'h':\n",
    "        pass\n",
    "        print(\"This is pass block\")\n",
    "    print(\"Current letter:\", letter)\n",
    "print(\"Good bye!\")\n",
    "\n",
    "\n",
    "li = ['a', 'b', 'c', 'd']\n",
    "\n",
    "for i in li:\n",
    "    if (i == 'a'):\n",
    "        pass\n",
    "    else:\n",
    "        print(i)"
   ]
  }
 ],
 "metadata": {
  "interpreter": {
   "hash": "4f089d5d4fecc9b26343308b996fdd689be150f0b9db90d9fd8a6c55a5fc822c"
  },
  "kernelspec": {
   "display_name": "Python 3.7.8 64-bit",
   "language": "python",
   "name": "python3"
  },
  "language_info": {
   "codemirror_mode": {
    "name": "ipython",
    "version": 3
   },
   "file_extension": ".py",
   "mimetype": "text/x-python",
   "name": "python",
   "nbconvert_exporter": "python",
   "pygments_lexer": "ipython3",
   "version": "3.7.8"
  },
  "orig_nbformat": 4
 },
 "nbformat": 4,
 "nbformat_minor": 2
}
