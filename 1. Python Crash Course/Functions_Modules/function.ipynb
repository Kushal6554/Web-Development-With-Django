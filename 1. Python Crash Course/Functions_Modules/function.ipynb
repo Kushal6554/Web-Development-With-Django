{
 "cells": [
  {
   "cell_type": "code",
   "execution_count": 5,
   "metadata": {},
   "outputs": [
    {
     "name": "stdout",
     "output_type": "stream",
     "text": [
      "4\n",
      "The number of elements in the list [1, 2, 3, 4, 9, 77] is: 6\n"
     ]
    }
   ],
   "source": [
    "# print() function\n",
    "a = 4\n",
    "print(a)\n",
    "\n",
    "# len() function\n",
    "l = [1,2,3,4,9,77]\n",
    "a = len(l)\n",
    "print(f\"The number of elements in the list {l} is:\", a)\n"
   ]
  },
  {
   "cell_type": "code",
   "execution_count": 6,
   "metadata": {},
   "outputs": [
    {
     "name": "stdout",
     "output_type": "stream",
     "text": [
      "Welcome to Python\n"
     ]
    }
   ],
   "source": [
    "# Functions and Modules\n",
    "# User Defined Functions\n",
    "\n",
    "# Creating a function\n",
    "def fun():\n",
    "    print(\"Welcome to Python\")\n",
    "\n",
    "# Calling a function\n",
    "fun()"
   ]
  },
  {
   "cell_type": "code",
   "execution_count": 7,
   "metadata": {},
   "outputs": [
    {
     "name": "stdout",
     "output_type": "stream",
     "text": [
      "Hello World\n",
      "Hello World\n",
      "Hello World\n",
      "Hello Kushal\n",
      "Hello Coursly\n"
     ]
    }
   ],
   "source": [
    "def my_func():\n",
    "    print(\"Hello World\")\n",
    "\n",
    "my_func()\n",
    "my_func()\n",
    "my_func()\n",
    "\n",
    "def hello(a):\n",
    "    print(f\"Hello {a}\")\n",
    "b = \"Kushal\"\n",
    "hello(b)\n",
    "\n",
    "c = \"Coursly\"\n",
    "hello(c)"
   ]
  },
  {
   "cell_type": "code",
   "execution_count": 8,
   "metadata": {},
   "outputs": [
    {
     "name": "stdout",
     "output_type": "stream",
     "text": [
      "Hello Kushal\n"
     ]
    }
   ],
   "source": [
    "# Argument of a function\n",
    "# Values passed inside parenthesis of a function\n",
    "\n",
    "# Normal Argument\n",
    "def hello(name):\n",
    "# function that takes an argument in name and displays hello {name}\n",
    "    print(f\"Hello {name}\")\n",
    "hello(\"Kushal\")"
   ]
  },
  {
   "cell_type": "code",
   "execution_count": 9,
   "metadata": {},
   "outputs": [
    {
     "name": "stdout",
     "output_type": "stream",
     "text": [
      "Hello Kushal\n"
     ]
    }
   ],
   "source": [
    "# Default Argument\n",
    "def hello(name = \"Kushal\"):\n",
    "    print(f\"Hello {name}\")\n",
    "hello()"
   ]
  },
  {
   "cell_type": "code",
   "execution_count": 10,
   "metadata": {},
   "outputs": [
    {
     "name": "stdout",
     "output_type": "stream",
     "text": [
      "Hello Kushal Bhattarai\n",
      "Hello Kushal Bhattarai\n",
      "Hello Kushal Coursly Nepal\n"
     ]
    }
   ],
   "source": [
    "# Keyword Argument\n",
    "def hello(fname, lname):\n",
    "    print(f\"Hello {fname} {lname}\")\n",
    "hello(\"Kushal\", \"Bhattarai\")\n",
    "hello(lname = \"Bhattarai\", fname = \"Kushal\")\n",
    "\n",
    "def hello3(fname, mname, lname):\n",
    "    print(f\"Hello {fname} {mname} {lname}\")\n",
    "\n",
    "hello3(fname = \"Kushal\", mname = \"Coursly\", lname = \"Nepal\")"
   ]
  },
  {
   "cell_type": "code",
   "execution_count": 11,
   "metadata": {},
   "outputs": [
    {
     "name": "stdout",
     "output_type": "stream",
     "text": [
      "(5, 6, 7, 8, 9)\n",
      "<class 'tuple'>\n",
      "5\n",
      "6\n",
      "7\n",
      "8\n",
      "9\n",
      "('Hello', 'Welcome', 'To', 'Python', 5, 7)\n",
      "<class 'tuple'>\n",
      "Hello\n",
      "Welcome\n",
      "To\n",
      "Python\n",
      "5\n",
      "7\n"
     ]
    }
   ],
   "source": [
    "# * (args) and ** (kwargs) functions\n",
    "def myFun(*args):\n",
    "    print(args)\n",
    "    print(type(args))\n",
    "    for e in args:\n",
    "        print(e)\n",
    "\n",
    "myFun(5,6,7,8,9)\n",
    "myFun(\"Hello\", \"Welcome\", \"To\", \"Python\", 5, 7)\n"
   ]
  },
  {
   "cell_type": "code",
   "execution_count": 12,
   "metadata": {},
   "outputs": [
    {
     "name": "stdout",
     "output_type": "stream",
     "text": [
      "{'first': 'Python', 'middle': 'is the best', 'last': 'programming language'}\n",
      "<class 'dict'>\n",
      "programming language\n"
     ]
    }
   ],
   "source": [
    "def myFun(**kwargs):\n",
    "    print(kwargs)\n",
    "    print(type(kwargs))\n",
    "    print(kwargs['last'])\n",
    "myFun(first = \"Python\", middle = \"is the best\", last = \"programming language\")\n"
   ]
  },
  {
   "cell_type": "code",
   "execution_count": 13,
   "metadata": {},
   "outputs": [
    {
     "name": "stdout",
     "output_type": "stream",
     "text": [
      "Hello Kushal, how are you?\n"
     ]
    }
   ],
   "source": [
    "# return results in function\n",
    "def hello(name):\n",
    "    result = f\"Hello {name}, how are you?\"\n",
    "    return result\n",
    "\n",
    "c = hello(\"Kushal\")\n",
    "print(c)\n"
   ]
  },
  {
   "cell_type": "code",
   "execution_count": 14,
   "metadata": {},
   "outputs": [
    {
     "name": "stdout",
     "output_type": "stream",
     "text": [
      "28\n",
      "3\n"
     ]
    }
   ],
   "source": [
    "def add(a,b):\n",
    "    sum = a + b\n",
    "    return sum\n",
    "r = add(5,23)\n",
    "print(r)\n",
    "# Using lambda function for to get the same type of result\n",
    "sum = lambda a,b:a+b\n",
    "s = sum(1,2)\n",
    "print(s)"
   ]
  },
  {
   "cell_type": "code",
   "execution_count": 15,
   "metadata": {},
   "outputs": [
    {
     "name": "stdout",
     "output_type": "stream",
     "text": [
      "5\n"
     ]
    }
   ],
   "source": [
    "def absolute(a):\n",
    "    if a>= 0:\n",
    "        return a\n",
    "    else:\n",
    "        return -a\n",
    "a = absolute(-5)\n",
    "print(a)\n"
   ]
  },
  {
   "cell_type": "code",
   "execution_count": 16,
   "metadata": {},
   "outputs": [
    {
     "name": "stdout",
     "output_type": "stream",
     "text": [
      "3 6 10\n"
     ]
    }
   ],
   "source": [
    "def add(*a):\n",
    "    sum = 0\n",
    "    for i in a:\n",
    "        sum = sum + i\n",
    "    return sum\n",
    "r1 = add(1,2)\n",
    "r2 = add(1,2,3)\n",
    "r3 = add(1,2,3,4)\n",
    "\n",
    "print(r1, r2, r3)\n",
    "\n"
   ]
  },
  {
   "cell_type": "code",
   "execution_count": 17,
   "metadata": {},
   "outputs": [
    {
     "name": "stdout",
     "output_type": "stream",
     "text": [
      "Python\n"
     ]
    }
   ],
   "source": [
    "def func():\n",
    "    s = \"Python\"\n",
    "    return s\n",
    "\n",
    "s = \"Django\"\n",
    "s = func()\n",
    "print(s)"
   ]
  },
  {
   "cell_type": "code",
   "execution_count": 18,
   "metadata": {},
   "outputs": [
    {
     "name": "stdout",
     "output_type": "stream",
     "text": [
      "27\n",
      "16 4\n"
     ]
    }
   ],
   "source": [
    "def cube(y):\n",
    "    return y**3\n",
    "r = cube(3)\n",
    "print(r)\n",
    "\n",
    "l1 = lambda y:y**4\n",
    "l2 = lambda z:z**2\n",
    "\n",
    "r1 = l1(2)\n",
    "r2 = l2(2)\n",
    "\n",
    "print(r1, r2)\n"
   ]
  },
  {
   "cell_type": "code",
   "execution_count": 19,
   "metadata": {},
   "outputs": [
    {
     "name": "stdout",
     "output_type": "stream",
     "text": [
      "The list obtained when 1 is added to each component of [0, 1, 2, 3, 4, 5, 6, 7, 8, 9] is: [1, 2, 3, 4, 5, 6, 7, 8, 9, 10]\n",
      "The list obtained when each component of the list [1, 2, 3, 4, 5] is squared is: [1, 4, 9, 16, 25]\n",
      "The odd components of the list [5, 7, 22, 97, 54, 62, 77, 23, 73, 61] are: [5, 7, 97, 77, 23, 73, 61]\n",
      "The even number components of the list [5, 7, 22, 97, 54, 62, 77, 23, 73, 61] are: [22, 54, 62]\n"
     ]
    }
   ],
   "source": [
    "# map() and filter()\n",
    "\n",
    "# map(function, sequence)\n",
    "\n",
    "L = list(range(0, 10))\n",
    "r = list(map(lambda x:x+1, L))\n",
    "print(f\"The list obtained when 1 is added to each component of {L} is:\", r)\n",
    "\n",
    "L1 = [1,2,3,4,5]\n",
    "r = list(map(lambda x:x**2, L1))\n",
    "print(f\"The list obtained when each component of the list {L1} is squared is:\", r)\n",
    "\n",
    "# filter() function\n",
    "\n",
    "initial_list = [5,7,22,97,54,62,77,23,73,61]\n",
    "final_list1 = list(filter(lambda x: (x%2 != 0), initial_list))\n",
    "final_list2 = list(filter(lambda x: (x%2 == 0), initial_list))\n",
    "print(f\"The odd components of the list {initial_list} are:\", final_list1)\n",
    "print(f\"The even number components of the list {initial_list} are:\", final_list2)"
   ]
  },
  {
   "cell_type": "code",
   "execution_count": 31,
   "metadata": {},
   "outputs": [
    {
     "name": "stdout",
     "output_type": "stream",
     "text": [
      "2102035415856\n",
      "4\n",
      "False\n",
      "True\n",
      "False\n",
      "True\n"
     ]
    }
   ],
   "source": [
    "# Exercises from \"Real Python\" https://realpython.com/defining-your-own-python-function/\n",
    "\n",
    "# Defining your own python function\n",
    "\n",
    "# Built-in functions\n",
    "# Examples\n",
    "s = 'foodbar'\n",
    "print(id(s)) # returns the unique integer identifier of the argument passed to the function id()\n",
    "\n",
    "a = ['foo', 'bar', 'baz', 'qux']\n",
    "print(len(a)) # returns the length of the argument passed to the function len()\n",
    "\n",
    "# any() function\n",
    "# takes an iterable as its argument\n",
    "# returns True if any of the items in the iterable are trythy\n",
    "# returns False otherwise\n",
    "print(any([False, False, False]))\n",
    "print(any([False, True, False]))\n",
    "\n",
    "print(any(['bar' == 'baz', len('foo') == 4, 'qux' in {'foo', 'bar', 'baz'}]))\n",
    "print(any(['bar' == 'baz', len('foo') == 3, 'qux' in {'foo', 'bar', 'baz'}]))\n"
   ]
  },
  {
   "cell_type": "code",
   "execution_count": 35,
   "metadata": {},
   "outputs": [
    {
     "name": "stdout",
     "output_type": "stream",
     "text": [
      "Before calling f()\n",
      "-- Inside f()\n",
      "After calling f()\n"
     ]
    }
   ],
   "source": [
    "# Definining functions and calling them\n",
    "\n",
    "def f():\n",
    "    s = '-- Inside f()'\n",
    "    print(s)\n",
    "\n",
    "print(\"Before calling f()\")\n",
    "f()\n",
    "print(\"After calling f()\") \n",
    "\n",
    "# Defining an empty function\n",
    "\n",
    "def f():\n",
    "    pass\n",
    "f()"
   ]
  },
  {
   "cell_type": "code",
   "execution_count": 1,
   "metadata": {},
   "outputs": [
    {
     "name": "stdout",
     "output_type": "stream",
     "text": [
      "6 bananas cost $1.74\n",
      "bananas 1.74 cost $6.00\n",
      "6 bananas cost $1.74\n",
      "6 bananas cost $1.74\n",
      "6 bananas cost $1.74\n",
      "6 bananas cost $1.74\n",
      "6 bananas cost $1.74\n",
      "4 apples cost $2.24\n",
      "4 apples cost $1.74\n",
      "4 bananas cost $1.74\n",
      "9 kumquats cost $1.74\n",
      "6 bananas cost $2.29\n"
     ]
    }
   ],
   "source": [
    "# Passing an argument in a function\n",
    "\n",
    "# Positional arguments\n",
    "def f(qty, item, price): # format parameters\n",
    "    print(f\"{qty} {item} cost ${price:.2f}\")\n",
    "\n",
    "f(6, 'bananas', 1.74) # actual parameters\n",
    "f('bananas', 1.74, 6) # actual parameters misaligned (no error, though)\n",
    "\n",
    "# Too few arguments\n",
    "# f(6, 'bananas') # TypeError: f() missing 1 required positional argument: 'price'\n",
    "\n",
    "# Too many arguments\n",
    "# f(6, 'bananas', 1.74, 'kumquats') # TypeError: f() missing 1 required positional argument: 'price'\n",
    "\n",
    "#  Keyword Arguments\n",
    "f(qty = 6, item = 'bananas', price = 1.74)\n",
    "\n",
    "# referensing a keyword that does not match any of the declared parameters\n",
    "# f(qty = 6, item = 'bananas', cost = 1.74) # TypeError: f() got an unexpected keyword argument 'cost'\n",
    "\n",
    "# Using keyword arguments lifts the restriction on argument order\n",
    "f(item = 'bananas', price = 1.74, qty = 6)\n",
    "\n",
    "# Still too few arguments\n",
    "# f(qty = 6, item = 'bananas') # TypeError: f() missing 1 required positional argument: 'price'\n",
    "\n",
    "# Calling a function using both positional and keyword arguments:\n",
    "f(6, price = 1.74, item = 'bananas')\n",
    "f(6, 'bananas', price = 1.74)\n",
    "\n",
    "# In this case, all the positional argumants must come first\n",
    "# f(6, item = 'bananas', 1.74) # SyntaxError: positional argument follows keyword argument\n",
    "\n",
    "# Deefault or optional parameters\n",
    "def f(qty = 6, item = 'bananas', price = 1.74):\n",
    "    print(f\"{qty} {item} cost ${price:.2f}\")\n",
    "\n",
    "f()\n",
    "f(4, \"apples\", 2.24)\n",
    "f(4, \"apples\") # Any argument that is left out assumes its dafault value\n",
    "f(4)\n",
    "f(item = 'kumquats', qty = 9)\n",
    "f(price = 2.29)"
   ]
  },
  {
   "cell_type": "code",
   "execution_count": 21,
   "metadata": {},
   "outputs": [
    {
     "name": "stdout",
     "output_type": "stream",
     "text": [
      "['foo', 'bar', 'baz', '###']\n",
      "[1, 2, 3, 4, 5, '###']\n",
      "['###']\n",
      "['###', '###']\n",
      "['###', '###', '###']\n",
      "1879850774600\n",
      "['###']\n",
      "1879850774600\n",
      "['###', '###']\n",
      "1879850774600\n",
      "['###', '###', '###']\n",
      "['###']\n",
      "['###']\n",
      "['###']\n"
     ]
    }
   ],
   "source": [
    "# Mutable Default Parameter Values\n",
    "def f(my_list = []):\n",
    "    my_list.append('###')\n",
    "    return my_list\n",
    "\n",
    "print(f(['foo', 'bar', 'baz']))\n",
    "print(f([1, 2, 3, 4, 5]))\n",
    "print(f())\n",
    "print(f())\n",
    "print(f())\n",
    "\n",
    "def f(my_list = []):\n",
    "    print(id(my_list))\n",
    "    my_list.append('###')\n",
    "    return my_list\n",
    "\n",
    "print(f())\n",
    "print(f())\n",
    "print(f())\n",
    "\n",
    "def f(my_list = None):\n",
    "    if my_list is None:\n",
    "        my_list = []\n",
    "    my_list.append('###')\n",
    "    return my_list\n",
    "\n",
    "print(f())\n",
    "print(f())\n",
    "print(f())"
   ]
  },
  {
   "cell_type": "code",
   "execution_count": 32,
   "metadata": {},
   "outputs": [
    {
     "name": "stdout",
     "output_type": "stream",
     "text": [
      "None\n",
      "5\n",
      "x =  5 /id(x) =  140709278155152\n",
      "fx = 5 /id(fx) =  140709278155152\n",
      "fx = 10 / id(fx) =  140709278155312\n",
      "None\n",
      "x= 5 /id(x) =  140709278155152\n"
     ]
    }
   ],
   "source": [
    "# Passs-By-Value Vs Pass-By-Reference in Python\n",
    "def f(fx):\n",
    "    fx = 10\n",
    "\n",
    "x = 5\n",
    "print(f(x))\n",
    "print(x)\n",
    "\n",
    "def f(fx):\n",
    "    print('fx =', fx, '/id(fx) = ', id(fx))\n",
    "    fx = 10\n",
    "    print('fx =', fx, '/ id(fx) = ', id(fx))\n",
    "\n",
    "x = 5\n",
    "print('x = ', x, '/id(x) = ', id(x))\n",
    "\n",
    "print(f(x))\n",
    "\n",
    "print('x=', x, '/id(x) = ', id(x))"
   ]
  },
  {
   "cell_type": "code",
   "execution_count": 36,
   "metadata": {},
   "outputs": [
    {
     "name": "stdout",
     "output_type": "stream",
     "text": [
      "40\n",
      "{'foo': 1, 'bar': 2}\n",
      "{1, 2, 3}\n",
      "bar\n",
      "['foo', 'bar', 'baz']\n",
      "None\n"
     ]
    }
   ],
   "source": [
    "def f(x):\n",
    "    x = 'foo'\n",
    "\n",
    "for i in (\n",
    "    40,\n",
    "    dict(foo = 1, bar = 2),\n",
    "    {1, 2, 3},\n",
    "    'bar',\n",
    "    ['foo', 'bar', 'baz']):\n",
    "    f(i)\n",
    "    print(i)\n",
    "print(f(x))"
   ]
  },
  {
   "cell_type": "code",
   "execution_count": 42,
   "metadata": {},
   "outputs": [
    {
     "name": "stdout",
     "output_type": "stream",
     "text": [
      "None\n",
      "['---', 'bar', 'baz', 'qux']\n"
     ]
    }
   ],
   "source": [
    "def f(x):\n",
    "    x[0] = '---'\n",
    "\n",
    "my_list = ['foo', 'bar', 'baz', 'qux']\n",
    "\n",
    "print(f(my_list))\n",
    "print(my_list)"
   ]
  },
  {
   "cell_type": "code",
   "execution_count": 56,
   "metadata": {},
   "outputs": [
    {
     "name": "stdout",
     "output_type": "stream",
     "text": [
      "None\n",
      "{'foo': 1, 'bar': 22, 'baz': 3}\n"
     ]
    }
   ],
   "source": [
    "def f(x):\n",
    "    x['bar'] = 22\n",
    "\n",
    "my_dict = {'foo': 1, 'bar': 2, 'baz': 3}\n",
    "\n",
    "print(f(my_dict))\n",
    "print(my_dict)\n",
    "\n"
   ]
  },
  {
   "cell_type": "code",
   "execution_count": 59,
   "metadata": {},
   "outputs": [
    {
     "name": "stdout",
     "output_type": "stream",
     "text": [
      "foo\n",
      "foo\n",
      "bar\n"
     ]
    }
   ],
   "source": [
    "# The return statement\n",
    "\n",
    "# Exiting a function\n",
    "\n",
    "def f():\n",
    "    print('foo')\n",
    "    return\n",
    "    print('bar')\n",
    "\n",
    "f()\n",
    "\n",
    "def f():\n",
    "    print('foo')\n",
    "    print('bar')\n",
    "    return\n",
    "\n",
    "f()"
   ]
  },
  {
   "cell_type": "code",
   "execution_count": 76,
   "metadata": {},
   "outputs": [
    {
     "name": "stdout",
     "output_type": "stream",
     "text": [
      "65\n"
     ]
    }
   ],
   "source": [
    "def f(x):\n",
    "    if x < 0:\n",
    "        return\n",
    "    if x > 100:\n",
    "        return\n",
    "    print(x)\n",
    "\n",
    "# print(f(-3))\n",
    "# print(f(105))\n",
    "# a = f(65)\n",
    "# print(a)\n",
    "f(65)\n"
   ]
  },
  {
   "cell_type": "code",
   "execution_count": 84,
   "metadata": {},
   "outputs": [
    {
     "name": "stdout",
     "output_type": "stream",
     "text": [
      "foo\n"
     ]
    }
   ],
   "source": [
    "# Returning data to the caller\n",
    "\n",
    "def f():\n",
    "    return 'foo'\n",
    "\n",
    "# f()\n",
    "# print(f())\n",
    "s = f()\n",
    "print(s)"
   ]
  },
  {
   "cell_type": "code",
   "execution_count": 88,
   "metadata": {},
   "outputs": [
    {
     "name": "stdout",
     "output_type": "stream",
     "text": [
      "{'foo': 1, 'bar': 2, 'baz': 3}\n",
      "3\n"
     ]
    }
   ],
   "source": [
    "def f():\n",
    "    return dict(foo = 1, bar = 2, baz = 3)\n",
    "\n",
    "print(f())\n",
    "print(f()['baz'])"
   ]
  },
  {
   "cell_type": "code",
   "execution_count": 92,
   "metadata": {},
   "outputs": [
    {
     "name": "stdout",
     "output_type": "stream",
     "text": [
      "ob\n"
     ]
    }
   ],
   "source": [
    "def f():\n",
    "    return 'foobar'\n",
    "\n",
    "print(f()[2:4])"
   ]
  },
  {
   "cell_type": "code",
   "execution_count": 98,
   "metadata": {},
   "outputs": [
    {
     "name": "stdout",
     "output_type": "stream",
     "text": [
      "['foo', 'bar', 'baz', 'qux']\n",
      "foo\n",
      "bar\n",
      "baz\n",
      "qux\n"
     ]
    }
   ],
   "source": [
    "def f():\n",
    "    return ['foo', 'bar', 'baz', 'qux']\n",
    "\n",
    "print(f())\n",
    "print(f()[0])\n",
    "print(f()[1])\n",
    "print(f()[2])\n",
    "print(f()[3])"
   ]
  },
  {
   "cell_type": "code",
   "execution_count": 113,
   "metadata": {},
   "outputs": [
    {
     "name": "stdout",
     "output_type": "stream",
     "text": [
      "<class 'tuple'>\n",
      "('foo', 'bar', 'baz', 'qux')\n",
      "a = foo, b = bar, c = baz, d = qux\n",
      "None\n",
      "None\n"
     ]
    }
   ],
   "source": [
    "# If multiple comma-separated expressions are\n",
    "# specified in a return statement\n",
    "def f():\n",
    "    return 'foo', 'bar', 'baz', 'qux'\n",
    "\n",
    "print(type(f()))\n",
    "t = f()\n",
    "print(t)\n",
    "\n",
    "a, b, c, d = f()\n",
    "print(f'a = {a}, b = {b}, c = {c}, d = {d}')\n",
    "\n",
    "# When no return value is given\n",
    "def f():\n",
    "    return\n",
    "\n",
    "print(f())\n",
    "\n",
    "# Pass statement\n",
    "def g():\n",
    "    pass\n",
    "\n",
    "print(g())"
   ]
  },
  {
   "cell_type": "code",
   "execution_count": 116,
   "metadata": {},
   "outputs": [
    {
     "name": "stdout",
     "output_type": "stream",
     "text": [
      "no\n"
     ]
    }
   ],
   "source": [
    "def f():\n",
    "    return\n",
    "\n",
    "def g():\n",
    "    pass\n",
    "\n",
    "if f() or g():\n",
    "    print('yes')\n",
    "else:\n",
    "    print('no')"
   ]
  },
  {
   "cell_type": "code",
   "execution_count": 169,
   "metadata": {},
   "outputs": [
    {
     "data": {
      "text/plain": [
       "5"
      ]
     },
     "execution_count": 169,
     "metadata": {},
     "output_type": "execute_result"
    }
   ],
   "source": [
    "# revisiting side effects\n",
    "\n",
    "def double(x):\n",
    "    x *= 2\n",
    "\n",
    "x = 5\n",
    "double(x)\n",
    "x\n",
    "\n"
   ]
  },
  {
   "cell_type": "code",
   "execution_count": 158,
   "metadata": {},
   "outputs": [
    {
     "name": "stdout",
     "output_type": "stream",
     "text": [
      "40\n"
     ]
    }
   ],
   "source": [
    "def double(x):\n",
    "    return x * 2\n",
    "\n",
    "x = 20\n",
    "x = double(x)\n",
    "print(x)"
   ]
  },
  {
   "cell_type": "code",
   "execution_count": 174,
   "metadata": {},
   "outputs": [
    {
     "name": "stdout",
     "output_type": "stream",
     "text": [
      "[2, 4, 6, 8, 10]\n"
     ]
    }
   ],
   "source": [
    "def double_list(x):\n",
    "    i = 0\n",
    "    while i < len(x):\n",
    "        x[i] *= 2\n",
    "        i += 1\n",
    "\n",
    "a = [1,2,3,4,5]\n",
    "double_list(a)\n",
    "print(a)"
   ]
  },
  {
   "cell_type": "code",
   "execution_count": 176,
   "metadata": {},
   "outputs": [
    {
     "data": {
      "text/plain": [
       "[2, 4, 6, 8, 10]"
      ]
     },
     "execution_count": 176,
     "metadata": {},
     "output_type": "execute_result"
    }
   ],
   "source": [
    "def double_list(x):\n",
    "    r = []\n",
    "    for i in x:\n",
    "        r.append(i * 2)\n",
    "    return r\n",
    "\n",
    "a = [1,2,3,4,5]\n",
    "a = double_list(a)\n",
    "a"
   ]
  }
 ],
 "metadata": {
  "interpreter": {
   "hash": "4f089d5d4fecc9b26343308b996fdd689be150f0b9db90d9fd8a6c55a5fc822c"
  },
  "kernelspec": {
   "display_name": "Python 3.7.8 64-bit",
   "language": "python",
   "name": "python3"
  },
  "language_info": {
   "codemirror_mode": {
    "name": "ipython",
    "version": 3
   },
   "file_extension": ".py",
   "mimetype": "text/x-python",
   "name": "python",
   "nbconvert_exporter": "python",
   "pygments_lexer": "ipython3",
   "version": "3.7.8"
  },
  "orig_nbformat": 4
 },
 "nbformat": 4,
 "nbformat_minor": 2
}
