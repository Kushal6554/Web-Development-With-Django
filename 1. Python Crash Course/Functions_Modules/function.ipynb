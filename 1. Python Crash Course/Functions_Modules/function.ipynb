{
 "cells": [
  {
   "cell_type": "code",
   "execution_count": 5,
   "metadata": {},
   "outputs": [
    {
     "name": "stdout",
     "output_type": "stream",
     "text": [
      "4\n",
      "The number of elements in the list [1, 2, 3, 4, 9, 77] is: 6\n"
     ]
    }
   ],
   "source": [
    "# print() function\n",
    "a = 4\n",
    "print(a)\n",
    "\n",
    "# len() function\n",
    "l = [1,2,3,4,9,77]\n",
    "a = len(l)\n",
    "print(f\"The number of elements in the list {l} is:\", a)\n"
   ]
  },
  {
   "cell_type": "code",
   "execution_count": 3,
   "metadata": {},
   "outputs": [
    {
     "name": "stdout",
     "output_type": "stream",
     "text": [
      "Welcome to Python\n"
     ]
    }
   ],
   "source": [
    "# Functions and Modules\n",
    "# User Defined Functions\n",
    "\n",
    "# Creating a function\n",
    "def fun():\n",
    "    print(\"Welcome to Python\")\n",
    "\n",
    "# Calling a function\n",
    "fun()"
   ]
  },
  {
   "cell_type": "code",
   "execution_count": 8,
   "metadata": {},
   "outputs": [
    {
     "name": "stdout",
     "output_type": "stream",
     "text": [
      "Hello World\n",
      "Hello World\n",
      "Hello World\n",
      "Hello Kushal\n",
      "Hello Coursly\n"
     ]
    }
   ],
   "source": [
    "def my_func():\n",
    "    print(\"Hello World\")\n",
    "\n",
    "my_func()\n",
    "my_func()\n",
    "my_func()\n",
    "\n",
    "def hello(a):\n",
    "    print(f\"Hello {a}\")\n",
    "b = \"Kushal\"\n",
    "hello(b)\n",
    "\n",
    "c = \"Coursly\"\n",
    "hello(c)"
   ]
  },
  {
   "cell_type": "code",
   "execution_count": 5,
   "metadata": {},
   "outputs": [
    {
     "name": "stdout",
     "output_type": "stream",
     "text": [
      "Hello Kushal\n"
     ]
    }
   ],
   "source": [
    "# Argument of a function\n",
    "# Values passed inside parenthesis of a function\n",
    "\n",
    "# Normal Argument\n",
    "def hello(name):\n",
    "# function that takes an argument in name and displays hello {name}\n",
    "    print(f\"Hello {name}\")\n",
    "hello(\"Kushal\")"
   ]
  },
  {
   "cell_type": "code",
   "execution_count": 6,
   "metadata": {},
   "outputs": [
    {
     "name": "stdout",
     "output_type": "stream",
     "text": [
      "Hello Kushal\n"
     ]
    }
   ],
   "source": [
    "# Default Argument\n",
    "def hello(name = \"Kushal\"):\n",
    "    print(f\"Hello {name}\")\n",
    "hello()"
   ]
  },
  {
   "cell_type": "code",
   "execution_count": 13,
   "metadata": {},
   "outputs": [
    {
     "name": "stdout",
     "output_type": "stream",
     "text": [
      "Hello Kushal Bhattarai\n",
      "Hello Kushal Bhattarai\n",
      "Hello Kushal Coursly Nepal\n"
     ]
    }
   ],
   "source": [
    "# Keyword Argument\n",
    "def hello(fname, lname):\n",
    "    print(f\"Hello {fname} {lname}\")\n",
    "hello(\"Kushal\", \"Bhattarai\")\n",
    "hello(lname = \"Bhattarai\", fname = \"Kushal\")\n",
    "\n",
    "def hello3(fname, mname, lname):\n",
    "    print(f\"Hello {fname} {mname} {lname}\")\n",
    "\n",
    "hello3(fname = \"Kushal\", mname = \"Coursly\", lname = \"Nepal\")"
   ]
  },
  {
   "cell_type": "code",
   "execution_count": 17,
   "metadata": {},
   "outputs": [
    {
     "name": "stdout",
     "output_type": "stream",
     "text": [
      "(5, 6, 7, 8, 9)\n",
      "<class 'tuple'>\n",
      "5\n",
      "6\n",
      "7\n",
      "8\n",
      "9\n",
      "('Hello', 'Welcome', 'To', 'Python', 5, 7)\n",
      "<class 'tuple'>\n",
      "Hello\n",
      "Welcome\n",
      "To\n",
      "Python\n",
      "5\n",
      "7\n"
     ]
    }
   ],
   "source": [
    "# * (args) and ** (kwargs) functions\n",
    "def myFun(*args):\n",
    "    print(args)\n",
    "    print(type(args))\n",
    "    for e in args:\n",
    "        print(e)\n",
    "\n",
    "myFun(5,6,7,8,9)\n",
    "myFun(\"Hello\", \"Welcome\", \"To\", \"Python\", 5, 7)\n"
   ]
  },
  {
   "cell_type": "code",
   "execution_count": 18,
   "metadata": {},
   "outputs": [
    {
     "name": "stdout",
     "output_type": "stream",
     "text": [
      "{'first': 'Python', 'middle': 'is the best', 'last': 'programming language'}\n",
      "<class 'dict'>\n",
      "programming language\n"
     ]
    }
   ],
   "source": [
    "def myFun(**kwargs):\n",
    "    print(kwargs)\n",
    "    print(type(kwargs))\n",
    "    print(kwargs['last'])\n",
    "myFun(first = \"Python\", middle = \"is the best\", last = \"programming language\")\n"
   ]
  },
  {
   "cell_type": "code",
   "execution_count": 23,
   "metadata": {},
   "outputs": [
    {
     "name": "stdout",
     "output_type": "stream",
     "text": [
      "Hello Kushal, how are you?\n"
     ]
    }
   ],
   "source": [
    "# return results in function\n",
    "def hello(name):\n",
    "    result = f\"Hello {name}, how are you?\"\n",
    "    return result\n",
    "\n",
    "c = hello(\"Kushal\")\n",
    "print(c)\n"
   ]
  },
  {
   "cell_type": "code",
   "execution_count": 30,
   "metadata": {},
   "outputs": [
    {
     "name": "stdout",
     "output_type": "stream",
     "text": [
      "28\n",
      "3\n"
     ]
    }
   ],
   "source": [
    "def add(a,b):\n",
    "    sum = a + b\n",
    "    return sum\n",
    "r = add(5,23)\n",
    "print(r)\n",
    "# Using lambda function for to get the same type of result\n",
    "sum = lambda a,b:a+b\n",
    "s = sum(1,2)\n",
    "print(s)"
   ]
  },
  {
   "cell_type": "code",
   "execution_count": 32,
   "metadata": {},
   "outputs": [
    {
     "name": "stdout",
     "output_type": "stream",
     "text": [
      "5\n"
     ]
    }
   ],
   "source": [
    "def absolute(a):\n",
    "    if a>= 0:\n",
    "        return a\n",
    "    else:\n",
    "        return -a\n",
    "a = absolute(-5)\n",
    "print(a)\n"
   ]
  },
  {
   "cell_type": "code",
   "execution_count": 33,
   "metadata": {},
   "outputs": [
    {
     "name": "stdout",
     "output_type": "stream",
     "text": [
      "3 6 10\n"
     ]
    }
   ],
   "source": [
    "def add(*a):\n",
    "    sum = 0\n",
    "    for i in a:\n",
    "        sum = sum + i\n",
    "    return sum\n",
    "r1 = add(1,2)\n",
    "r2 = add(1,2,3)\n",
    "r3 = add(1,2,3,4)\n",
    "\n",
    "print(r1, r2, r3)\n",
    "\n"
   ]
  },
  {
   "cell_type": "code",
   "execution_count": 35,
   "metadata": {},
   "outputs": [
    {
     "name": "stdout",
     "output_type": "stream",
     "text": [
      "Python\n",
      "28\n"
     ]
    }
   ],
   "source": [
    "def func():\n",
    "    s = \"Python\"\n",
    "    return s\n",
    "\n",
    "s = \"Django\"\n",
    "s = func()\n",
    "print(s)"
   ]
  },
  {
   "cell_type": "code",
   "execution_count": 40,
   "metadata": {},
   "outputs": [
    {
     "name": "stdout",
     "output_type": "stream",
     "text": [
      "27\n",
      "16 4\n"
     ]
    }
   ],
   "source": [
    "def cube(y):\n",
    "    return y**3\n",
    "r = cube(3)\n",
    "print(r)\n",
    "\n",
    "l1 = lambda y:y**4\n",
    "l2 = lambda z:z**2\n",
    "\n",
    "r1 = l1(2)\n",
    "r2 = l2(2)\n",
    "\n",
    "print(r1, r2)\n"
   ]
  },
  {
   "cell_type": "code",
   "execution_count": 9,
   "metadata": {},
   "outputs": [
    {
     "name": "stdout",
     "output_type": "stream",
     "text": [
      "The list obtained when 1 is added to each component of [0, 1, 2, 3, 4, 5, 6, 7, 8, 9] is: [1, 2, 3, 4, 5, 6, 7, 8, 9, 10]\n",
      "The list obtained when each component of the list [1, 2, 3, 4, 5] is squared is: [1, 4, 9, 16, 25]\n",
      "The odd components of the list [5, 7, 22, 97, 54, 62, 77, 23, 73, 61] are: [5, 7, 97, 77, 23, 73, 61]\n",
      "The even number components of the list [5, 7, 22, 97, 54, 62, 77, 23, 73, 61] are: [22, 54, 62]\n"
     ]
    }
   ],
   "source": [
    "# map() and filter()\n",
    "\n",
    "# map(function, sequence)\n",
    "\n",
    "L = list(range(0, 10))\n",
    "r = list(map(lambda x:x+1, L))\n",
    "print(f\"The list obtained when 1 is added to each component of {L} is:\", r)\n",
    "\n",
    "L1 = [1,2,3,4,5]\n",
    "r = list(map(lambda x:x**2, L1))\n",
    "print(f\"The list obtained when each component of the list {L1} is squared is:\", r)\n",
    "\n",
    "# filter() function\n",
    "\n",
    "initial_list = [5,7,22,97,54,62,77,23,73,61]\n",
    "final_list1 = list(filter(lambda x: (x%2 != 0), initial_list))\n",
    "final_list2 = list(filter(lambda x: (x%2 == 0), initial_list))\n",
    "print(f\"The odd components of the list {initial_list} are:\", final_list1)\n",
    "print(f\"The even number components of the list {initial_list} are:\", final_list2)"
   ]
  }
 ],
 "metadata": {
  "interpreter": {
   "hash": "4f089d5d4fecc9b26343308b996fdd689be150f0b9db90d9fd8a6c55a5fc822c"
  },
  "kernelspec": {
   "display_name": "Python 3.7.8 64-bit",
   "language": "python",
   "name": "python3"
  },
  "language_info": {
   "codemirror_mode": {
    "name": "ipython",
    "version": 3
   },
   "file_extension": ".py",
   "mimetype": "text/x-python",
   "name": "python",
   "nbconvert_exporter": "python",
   "pygments_lexer": "ipython3",
   "version": "3.7.8"
  },
  "orig_nbformat": 4
 },
 "nbformat": 4,
 "nbformat_minor": 2
}
